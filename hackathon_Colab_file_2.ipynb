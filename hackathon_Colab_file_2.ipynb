{
  "nbformat": 4,
  "nbformat_minor": 0,
  "metadata": {
    "colab": {
      "provenance": [],
      "include_colab_link": true
    },
    "kernelspec": {
      "name": "python3",
      "display_name": "Python 3"
    },
    "language_info": {
      "name": "python"
    }
  },
  "cells": [
    {
      "cell_type": "markdown",
      "metadata": {
        "id": "view-in-github",
        "colab_type": "text"
      },
      "source": [
        "<a href=\"https://colab.research.google.com/github/haseeb9700/hackathon_machinadoctarinas/blob/main/hackathon_Colab_file_2.ipynb\" target=\"_parent\"><img src=\"https://colab.research.google.com/assets/colab-badge.svg\" alt=\"Open In Colab\"/></a>"
      ]
    },
    {
      "cell_type": "code",
      "execution_count": null,
      "metadata": {
        "id": "XPy6CGTqloTF"
      },
      "outputs": [],
      "source": [
        "import pandas as pd\n",
        "import numpy as np\n",
        "import matplotlib.pyplot as plt\n",
        "from sklearn.impute import SimpleImputer"
      ]
    },
    {
      "cell_type": "code",
      "source": [],
      "metadata": {
        "id": "sm6kix5zPo9H"
      },
      "execution_count": null,
      "outputs": []
    },
    {
      "cell_type": "code",
      "source": [
        "df = pd.read_csv(\"/content/Public Data.csv\")\n",
        "df = df[df.columns.drop(['Unnamed: 0'])]\n",
        "df.dropna(subset = ['Power Level'], inplace=True)"
      ],
      "metadata": {
        "id": "KWS8uvJVl0CY"
      },
      "execution_count": null,
      "outputs": []
    },
    {
      "cell_type": "code",
      "source": [
        "df[df['Air Force'].isnull()]['Country'].unique()"
      ],
      "metadata": {
        "colab": {
          "base_uri": "https://localhost:8080/"
        },
        "id": "ydw9LmgIq9DR",
        "outputId": "60b1b6a1-588a-4e47-d759-d7325aea854d"
      },
      "execution_count": null,
      "outputs": [
        {
          "output_type": "execute_result",
          "data": {
            "text/plain": [
              "array(['Algeria', 'Angola', 'Antigua and Barbuda', 'Argentina',\n",
              "       'Australia', 'Azerbaijan', 'Bahamas', 'Bangladesh', 'Barbados',\n",
              "       'Benin', 'Bosnia and Herzegovina', 'Burkina Faso', 'Burundi',\n",
              "       \"Côte d'Ivoire\", 'Cabo Verde', 'Cambodia', 'Cameroon', 'Canada',\n",
              "       'Central African Republic', 'Chad', 'Chile', 'Comoros', 'Congo',\n",
              "       'Croatia', 'Czechia', \"Democratic People's Republic of Korea\",\n",
              "       'Democratic Republic of the Congo', 'Denmark', 'Djibouti',\n",
              "       'Equatorial Guinea', 'Eritrea', 'Estonia', 'Ethiopia', 'Finland',\n",
              "       'Gabon', 'Ghana', 'Grenada', 'Guatemala', 'Guinea',\n",
              "       'Guinea-Bissau', 'Guyana', 'Haiti', 'Hungary', 'Iceland', 'India',\n",
              "       'Ireland', 'Jamaica', 'Japan', 'Kenya',\n",
              "       \"Lao People's Democratic Republic\", 'Lesotho', 'Liberia',\n",
              "       'Madagascar', 'Malawi', 'Mali', 'Malta', 'Mauritania',\n",
              "       'Montenegro', 'Mozambique', 'Myanmar', 'Namibia', 'Nepal',\n",
              "       'Netherlands', 'Niger', 'Nigeria', 'Norway', 'Pakistan', 'Panama',\n",
              "       'Paraguay', 'Peru', 'Russian Federation', 'Rwanda', 'Saint Lucia',\n",
              "       'Saint Vincent and the Grenadines', 'Sao Tome and Principe',\n",
              "       'Senegal', 'Serbia', 'Sierra Leone', 'Slovenia', 'Somalia',\n",
              "       'South Sudan', 'Sri Lanka', 'Sudan', 'Suriname', 'Sweden',\n",
              "       'Switzerland', 'Tajikistan',\n",
              "       'The former Yugoslav republic of Macedonia', 'Timor-Leste', 'Togo',\n",
              "       'Trinidad and Tobago', 'Turkmenistan', 'Uganda',\n",
              "       'United Kingdom of Great Britain and Northern Ireland',\n",
              "       'United Republic of Tanzania', 'Uzbekistan', 'Viet Nam', 'Zambia'],\n",
              "      dtype=object)"
            ]
          },
          "metadata": {},
          "execution_count": 14
        }
      ]
    },
    {
      "cell_type": "code",
      "source": [
        "df[df['GDP'].isnull()]['Country'].unique()"
      ],
      "metadata": {
        "colab": {
          "base_uri": "https://localhost:8080/"
        },
        "id": "c0yZPoy3rWBC",
        "outputId": "b49e18f4-11a5-402b-f2cc-3b657b76a816"
      },
      "execution_count": null,
      "outputs": [
        {
          "output_type": "execute_result",
          "data": {
            "text/plain": [
              "array(['Bahamas', 'Bolivia (Plurinational State of)', \"Côte d'Ivoire\",\n",
              "       'Congo', 'Czechia', \"Democratic People's Republic of Korea\",\n",
              "       'Democratic Republic of the Congo', 'Egypt', 'Eritrea', 'Gambia',\n",
              "       'Iran (Islamic Republic of)', 'Iraq', 'Kyrgyzstan',\n",
              "       \"Lao People's Democratic Republic\", 'Libya',\n",
              "       'Micronesia (Federated States of)', 'Republic of Korea',\n",
              "       'Republic of Moldova', 'Saint Lucia',\n",
              "       'Saint Vincent and the Grenadines', 'Sao Tome and Principe',\n",
              "       'Slovakia', 'Somalia', 'South Sudan', 'Syrian Arab Republic',\n",
              "       'The former Yugoslav republic of Macedonia',\n",
              "       'United Kingdom of Great Britain and Northern Ireland',\n",
              "       'United Republic of Tanzania', 'United States of America',\n",
              "       'Venezuela (Bolivarian Republic of)', 'Viet Nam', 'Yemen'],\n",
              "      dtype=object)"
            ]
          },
          "metadata": {},
          "execution_count": 15
        }
      ]
    },
    {
      "cell_type": "code",
      "source": [
        "df[df['International Reputation'].isnull()]['Country'].unique()"
      ],
      "metadata": {
        "colab": {
          "base_uri": "https://localhost:8080/"
        },
        "id": "NgJe0UyorePZ",
        "outputId": "4a1bf31f-2a97-45bb-dd99-836c90fb158b"
      },
      "execution_count": null,
      "outputs": [
        {
          "output_type": "execute_result",
          "data": {
            "text/plain": [
              "array([\"Côte d'Ivoire\", 'Czechia',\n",
              "       \"Democratic People's Republic of Korea\",\n",
              "       'Democratic Republic of the Congo', 'Republic of Korea',\n",
              "       'Republic of Moldova', 'Somalia',\n",
              "       'United Kingdom of Great Britain and Northern Ireland',\n",
              "       'United Republic of Tanzania', 'United States of America'],\n",
              "      dtype=object)"
            ]
          },
          "metadata": {},
          "execution_count": 16
        }
      ]
    },
    {
      "cell_type": "code",
      "source": [
        "df[df['Political Stability'].isnull()]['Country'].unique()"
      ],
      "metadata": {
        "colab": {
          "base_uri": "https://localhost:8080/"
        },
        "id": "64Ka4T0lsc_w",
        "outputId": "2eeba25c-c890-4f24-8fb1-5ddace938b86"
      },
      "execution_count": null,
      "outputs": [
        {
          "output_type": "execute_result",
          "data": {
            "text/plain": [
              "array([\"Côte d'Ivoire\", 'Czechia',\n",
              "       \"Democratic People's Republic of Korea\",\n",
              "       'Democratic Republic of the Congo', 'Republic of Korea',\n",
              "       'Republic of Moldova', 'Somalia',\n",
              "       'United Kingdom of Great Britain and Northern Ireland',\n",
              "       'United Republic of Tanzania', 'United States of America'],\n",
              "      dtype=object)"
            ]
          },
          "metadata": {},
          "execution_count": 17
        }
      ]
    },
    {
      "cell_type": "code",
      "source": [
        "df[df['Substance Abuse'].isnull()]['Country'].unique()"
      ],
      "metadata": {
        "colab": {
          "base_uri": "https://localhost:8080/"
        },
        "id": "1TvBB2qBrzq1",
        "outputId": "900cddc9-564f-427e-b734-4f5c2b3b44c6"
      },
      "execution_count": null,
      "outputs": [
        {
          "output_type": "execute_result",
          "data": {
            "text/plain": [
              "array(['Montenegro', 'South Sudan'], dtype=object)"
            ]
          },
          "metadata": {},
          "execution_count": 18
        }
      ]
    },
    {
      "cell_type": "code",
      "source": [
        "df[df['Literacy'].isnull()]['Country'].unique()"
      ],
      "metadata": {
        "colab": {
          "base_uri": "https://localhost:8080/"
        },
        "id": "jeMoqmBpsLQh",
        "outputId": "2c0d4742-35fb-4977-86e7-319a444e6b9f"
      },
      "execution_count": null,
      "outputs": [
        {
          "output_type": "execute_result",
          "data": {
            "text/plain": [
              "array(['Montenegro', 'South Sudan', 'Timor-Leste'], dtype=object)"
            ]
          },
          "metadata": {},
          "execution_count": 19
        }
      ]
    },
    {
      "cell_type": "code",
      "source": [
        "df[df['Submarines'].isnull()]['Country'].unique()"
      ],
      "metadata": {
        "colab": {
          "base_uri": "https://localhost:8080/"
        },
        "id": "esDEF0K0r1JI",
        "outputId": "8bcc908d-9354-48c0-b57d-9529cc5a8dda"
      },
      "execution_count": null,
      "outputs": [
        {
          "output_type": "execute_result",
          "data": {
            "text/plain": [
              "array(['Montenegro', 'South Sudan', 'Timor-Leste'], dtype=object)"
            ]
          },
          "metadata": {},
          "execution_count": 20
        }
      ]
    },
    {
      "cell_type": "code",
      "source": [
        "df[df['Educational Investment'].isnull()]['Country'].unique()"
      ],
      "metadata": {
        "colab": {
          "base_uri": "https://localhost:8080/"
        },
        "id": "llXLwxG3sDfw",
        "outputId": "85dc951f-c214-4080-b351-28662cd2c296"
      },
      "execution_count": null,
      "outputs": [
        {
          "output_type": "execute_result",
          "data": {
            "text/plain": [
              "array([\"Democratic People's Republic of Korea\", 'Iraq', 'Somalia',\n",
              "       'South Sudan'], dtype=object)"
            ]
          },
          "metadata": {},
          "execution_count": 21
        }
      ]
    },
    {
      "cell_type": "code",
      "source": [
        "df[df['Intelligence'].isnull()]['Country'].unique()"
      ],
      "metadata": {
        "colab": {
          "base_uri": "https://localhost:8080/"
        },
        "id": "bIs0PAmBsAMd",
        "outputId": "d41cc202-f93c-4518-83e4-3d21b25d8f30"
      },
      "execution_count": null,
      "outputs": [
        {
          "output_type": "execute_result",
          "data": {
            "text/plain": [
              "array(['South Sudan', 'Sudan'], dtype=object)"
            ]
          },
          "metadata": {},
          "execution_count": 22
        }
      ]
    },
    {
      "cell_type": "code",
      "source": [
        "df[df['Offense'].isnull()]['Country'].unique()"
      ],
      "metadata": {
        "colab": {
          "base_uri": "https://localhost:8080/"
        },
        "id": "4F0ZYcOtsxqZ",
        "outputId": "a96a5e65-10ea-4ab0-cda1-79895dceeb70"
      },
      "execution_count": null,
      "outputs": [
        {
          "output_type": "execute_result",
          "data": {
            "text/plain": [
              "array(['South Sudan', 'Sudan'], dtype=object)"
            ]
          },
          "metadata": {},
          "execution_count": 23
        }
      ]
    },
    {
      "cell_type": "code",
      "source": [
        "df[df['Defense'].isnull()]['Country'].unique()"
      ],
      "metadata": {
        "colab": {
          "base_uri": "https://localhost:8080/"
        },
        "id": "oTthfNPjsx9i",
        "outputId": "6c2ec047-215c-40be-dfaf-091dde968e85"
      },
      "execution_count": null,
      "outputs": [
        {
          "output_type": "execute_result",
          "data": {
            "text/plain": [
              "array(['South Sudan', 'Sudan'], dtype=object)"
            ]
          },
          "metadata": {},
          "execution_count": 24
        }
      ]
    },
    {
      "cell_type": "code",
      "source": [
        "df['Country'] = df['Country'].astype('category')\n",
        "df['Country'] = df['Country'].cat.codes\n",
        "\n",
        "df['Status'] = df['Status'].astype('category')\n",
        "df['Status'] = df['Status'].cat.codes"
      ],
      "metadata": {
        "id": "O91uKtF5q77I"
      },
      "execution_count": null,
      "outputs": []
    },
    {
      "cell_type": "code",
      "source": [
        "df.isnull().sum()"
      ],
      "metadata": {
        "colab": {
          "base_uri": "https://localhost:8080/"
        },
        "id": "Wj2NgImkl2Kh",
        "outputId": "9c9b6249-305f-400f-9b94-8eef506617f7"
      },
      "execution_count": null,
      "outputs": [
        {
          "output_type": "execute_result",
          "data": {
            "text/plain": [
              "Country                       0\n",
              "Year                          0\n",
              "Status                        0\n",
              "Power Level                   0\n",
              "Civilian Deaths               0\n",
              "Military Accidents            0\n",
              "Substance Abuse              16\n",
              "Military Investment           0\n",
              "Air Force                   544\n",
              "Army                          0\n",
              "Intelligence                 30\n",
              "Navy                          0\n",
              "Submarines                   19\n",
              "Educational Investment       45\n",
              "Literacy                     19\n",
              "Revolts                       0\n",
              "GDP                         414\n",
              "Population                  603\n",
              "Offense                      30\n",
              "Defense                      30\n",
              "Political Stability         150\n",
              "International Reputation    150\n",
              "dtype: int64"
            ]
          },
          "metadata": {},
          "execution_count": 26
        }
      ]
    },
    {
      "cell_type": "code",
      "source": [
        "df[df['Air Force'].isnull()]['Country']"
      ],
      "metadata": {
        "colab": {
          "base_uri": "https://localhost:8080/"
        },
        "id": "1LNeEhyKqhYT",
        "outputId": "8a48fbb6-eec7-45b5-9576-2060ab35f00d"
      },
      "execution_count": null,
      "outputs": [
        {
          "output_type": "execute_result",
          "data": {
            "text/plain": [
              "41        2\n",
              "42        2\n",
              "43        2\n",
              "44        2\n",
              "53        3\n",
              "       ... \n",
              "2735    181\n",
              "2736    181\n",
              "2737    181\n",
              "2738    181\n",
              "2739    181\n",
              "Name: Country, Length: 544, dtype: int16"
            ]
          },
          "metadata": {},
          "execution_count": 27
        }
      ]
    },
    {
      "cell_type": "code",
      "source": [
        "from sklearn.decomposition import PCA\n",
        "pca = PCA(n_components=2)\n",
        "#pca.fit(df[df.columns.drop(['Power Level'])])"
      ],
      "metadata": {
        "id": "wdIeY02Amf1X"
      },
      "execution_count": null,
      "outputs": []
    },
    {
      "cell_type": "code",
      "source": [
        "y = df['Power Level']\n",
        "X = df.loc[ : , df.columns != 'Power Level']"
      ],
      "metadata": {
        "id": "6eyiSkbhwKMk"
      },
      "execution_count": null,
      "outputs": []
    },
    {
      "cell_type": "code",
      "source": [
        "from sklearn.impute import KNNImputer\n",
        "knn = KNNImputer()\n",
        "X = knn.fit_transform(X)"
      ],
      "metadata": {
        "id": "Fzt8Bkb4uOU1"
      },
      "execution_count": null,
      "outputs": []
    },
    {
      "cell_type": "code",
      "source": [
        "from sklearn.ensemble import HistGradientBoostingRegressor\n",
        "from sklearn.model_selection import train_test_split\n",
        "X_train,X_test,y_train,y_test = train_test_split(X,y)\n",
        "hr = HistGradientBoostingRegressor()\n",
        "hr.fit(X_train,y_train)\n",
        "hr.score(X_test,y_test)"
      ],
      "metadata": {
        "colab": {
          "base_uri": "https://localhost:8080/"
        },
        "id": "gv0iFaJT1iKv",
        "outputId": "30efa564-d011-4011-cd8c-ab58cbc0dc07"
      },
      "execution_count": null,
      "outputs": [
        {
          "output_type": "execute_result",
          "data": {
            "text/plain": [
              "0.9473887227171032"
            ]
          },
          "metadata": {},
          "execution_count": 31
        }
      ]
    },
    {
      "cell_type": "code",
      "source": [
        "test_df = pd.read_csv('/content/Test_Dataset.csv')"
      ],
      "metadata": {
        "id": "TUqlMMPLJun8"
      },
      "execution_count": null,
      "outputs": []
    },
    {
      "cell_type": "code",
      "source": [
        "test_df.head()"
      ],
      "metadata": {
        "colab": {
          "base_uri": "https://localhost:8080/",
          "height": 322
        },
        "id": "ZKHb8ky_KlXV",
        "outputId": "cabe8b7d-43d3-4585-c0e2-4c7592034dd6"
      },
      "execution_count": null,
      "outputs": [
        {
          "output_type": "execute_result",
          "data": {
            "text/plain": [
              "               Country  Year      Status  Civilian Deaths  Military Accidents  \\\n",
              "0          Afghanistan  2023  Developing              264                  61   \n",
              "1              Albania  2023  Developing               75                   2   \n",
              "2              Algeria  2023  Developing               20                  21   \n",
              "3               Angola  2023  Developing              337                  65   \n",
              "4  Antigua and Barbuda  2023  Developing                9                  -6   \n",
              "\n",
              "   Military Investment  Air Force  Army  Intelligence  Navy  Submarines  \\\n",
              "0                71.59       69.0  1153         18.28    84           8   \n",
              "1               364.95       98.0    -2         57.89     2          97   \n",
              "2                -0.23       95.0    63         59.52    22          93   \n",
              "3                -0.11       58.0   117         23.71   102           9   \n",
              "4                -0.67       98.0     1         47.73     1          95   \n",
              "\n",
              "   Literacy  Revolts       GDP  Population  Offense  Defense  \\\n",
              "0        68     0.65    583.49  33736494.0    17.50    16.52   \n",
              "1        94    -0.88   3954.09     28873.0     1.43     1.58   \n",
              "2        92     0.32   4132.55  39871526.0     5.97     5.76   \n",
              "3        63     1.44   3696.01   2785939.0     7.46     8.82   \n",
              "4       100     0.68  13567.04         NaN     3.53     3.16   \n",
              "\n",
              "   Political Stability  International Reputation  \n",
              "0                 1.33                      9.68  \n",
              "1                 1.81                     14.35  \n",
              "2                 0.25                     13.24  \n",
              "3                 0.04                     10.25  \n",
              "4                 1.18                     14.24  "
            ],
            "text/html": [
              "\n",
              "  <div id=\"df-46ad53ef-6e60-4756-9926-b86ef96d945b\">\n",
              "    <div class=\"colab-df-container\">\n",
              "      <div>\n",
              "<style scoped>\n",
              "    .dataframe tbody tr th:only-of-type {\n",
              "        vertical-align: middle;\n",
              "    }\n",
              "\n",
              "    .dataframe tbody tr th {\n",
              "        vertical-align: top;\n",
              "    }\n",
              "\n",
              "    .dataframe thead th {\n",
              "        text-align: right;\n",
              "    }\n",
              "</style>\n",
              "<table border=\"1\" class=\"dataframe\">\n",
              "  <thead>\n",
              "    <tr style=\"text-align: right;\">\n",
              "      <th></th>\n",
              "      <th>Country</th>\n",
              "      <th>Year</th>\n",
              "      <th>Status</th>\n",
              "      <th>Civilian Deaths</th>\n",
              "      <th>Military Accidents</th>\n",
              "      <th>Military Investment</th>\n",
              "      <th>Air Force</th>\n",
              "      <th>Army</th>\n",
              "      <th>Intelligence</th>\n",
              "      <th>Navy</th>\n",
              "      <th>Submarines</th>\n",
              "      <th>Literacy</th>\n",
              "      <th>Revolts</th>\n",
              "      <th>GDP</th>\n",
              "      <th>Population</th>\n",
              "      <th>Offense</th>\n",
              "      <th>Defense</th>\n",
              "      <th>Political Stability</th>\n",
              "      <th>International Reputation</th>\n",
              "    </tr>\n",
              "  </thead>\n",
              "  <tbody>\n",
              "    <tr>\n",
              "      <th>0</th>\n",
              "      <td>Afghanistan</td>\n",
              "      <td>2023</td>\n",
              "      <td>Developing</td>\n",
              "      <td>264</td>\n",
              "      <td>61</td>\n",
              "      <td>71.59</td>\n",
              "      <td>69.0</td>\n",
              "      <td>1153</td>\n",
              "      <td>18.28</td>\n",
              "      <td>84</td>\n",
              "      <td>8</td>\n",
              "      <td>68</td>\n",
              "      <td>0.65</td>\n",
              "      <td>583.49</td>\n",
              "      <td>33736494.0</td>\n",
              "      <td>17.50</td>\n",
              "      <td>16.52</td>\n",
              "      <td>1.33</td>\n",
              "      <td>9.68</td>\n",
              "    </tr>\n",
              "    <tr>\n",
              "      <th>1</th>\n",
              "      <td>Albania</td>\n",
              "      <td>2023</td>\n",
              "      <td>Developing</td>\n",
              "      <td>75</td>\n",
              "      <td>2</td>\n",
              "      <td>364.95</td>\n",
              "      <td>98.0</td>\n",
              "      <td>-2</td>\n",
              "      <td>57.89</td>\n",
              "      <td>2</td>\n",
              "      <td>97</td>\n",
              "      <td>94</td>\n",
              "      <td>-0.88</td>\n",
              "      <td>3954.09</td>\n",
              "      <td>28873.0</td>\n",
              "      <td>1.43</td>\n",
              "      <td>1.58</td>\n",
              "      <td>1.81</td>\n",
              "      <td>14.35</td>\n",
              "    </tr>\n",
              "    <tr>\n",
              "      <th>2</th>\n",
              "      <td>Algeria</td>\n",
              "      <td>2023</td>\n",
              "      <td>Developing</td>\n",
              "      <td>20</td>\n",
              "      <td>21</td>\n",
              "      <td>-0.23</td>\n",
              "      <td>95.0</td>\n",
              "      <td>63</td>\n",
              "      <td>59.52</td>\n",
              "      <td>22</td>\n",
              "      <td>93</td>\n",
              "      <td>92</td>\n",
              "      <td>0.32</td>\n",
              "      <td>4132.55</td>\n",
              "      <td>39871526.0</td>\n",
              "      <td>5.97</td>\n",
              "      <td>5.76</td>\n",
              "      <td>0.25</td>\n",
              "      <td>13.24</td>\n",
              "    </tr>\n",
              "    <tr>\n",
              "      <th>3</th>\n",
              "      <td>Angola</td>\n",
              "      <td>2023</td>\n",
              "      <td>Developing</td>\n",
              "      <td>337</td>\n",
              "      <td>65</td>\n",
              "      <td>-0.11</td>\n",
              "      <td>58.0</td>\n",
              "      <td>117</td>\n",
              "      <td>23.71</td>\n",
              "      <td>102</td>\n",
              "      <td>9</td>\n",
              "      <td>63</td>\n",
              "      <td>1.44</td>\n",
              "      <td>3696.01</td>\n",
              "      <td>2785939.0</td>\n",
              "      <td>7.46</td>\n",
              "      <td>8.82</td>\n",
              "      <td>0.04</td>\n",
              "      <td>10.25</td>\n",
              "    </tr>\n",
              "    <tr>\n",
              "      <th>4</th>\n",
              "      <td>Antigua and Barbuda</td>\n",
              "      <td>2023</td>\n",
              "      <td>Developing</td>\n",
              "      <td>9</td>\n",
              "      <td>-6</td>\n",
              "      <td>-0.67</td>\n",
              "      <td>98.0</td>\n",
              "      <td>1</td>\n",
              "      <td>47.73</td>\n",
              "      <td>1</td>\n",
              "      <td>95</td>\n",
              "      <td>100</td>\n",
              "      <td>0.68</td>\n",
              "      <td>13567.04</td>\n",
              "      <td>NaN</td>\n",
              "      <td>3.53</td>\n",
              "      <td>3.16</td>\n",
              "      <td>1.18</td>\n",
              "      <td>14.24</td>\n",
              "    </tr>\n",
              "  </tbody>\n",
              "</table>\n",
              "</div>\n",
              "      <button class=\"colab-df-convert\" onclick=\"convertToInteractive('df-46ad53ef-6e60-4756-9926-b86ef96d945b')\"\n",
              "              title=\"Convert this dataframe to an interactive table.\"\n",
              "              style=\"display:none;\">\n",
              "        \n",
              "  <svg xmlns=\"http://www.w3.org/2000/svg\" height=\"24px\"viewBox=\"0 0 24 24\"\n",
              "       width=\"24px\">\n",
              "    <path d=\"M0 0h24v24H0V0z\" fill=\"none\"/>\n",
              "    <path d=\"M18.56 5.44l.94 2.06.94-2.06 2.06-.94-2.06-.94-.94-2.06-.94 2.06-2.06.94zm-11 1L8.5 8.5l.94-2.06 2.06-.94-2.06-.94L8.5 2.5l-.94 2.06-2.06.94zm10 10l.94 2.06.94-2.06 2.06-.94-2.06-.94-.94-2.06-.94 2.06-2.06.94z\"/><path d=\"M17.41 7.96l-1.37-1.37c-.4-.4-.92-.59-1.43-.59-.52 0-1.04.2-1.43.59L10.3 9.45l-7.72 7.72c-.78.78-.78 2.05 0 2.83L4 21.41c.39.39.9.59 1.41.59.51 0 1.02-.2 1.41-.59l7.78-7.78 2.81-2.81c.8-.78.8-2.07 0-2.86zM5.41 20L4 18.59l7.72-7.72 1.47 1.35L5.41 20z\"/>\n",
              "  </svg>\n",
              "      </button>\n",
              "      \n",
              "  <style>\n",
              "    .colab-df-container {\n",
              "      display:flex;\n",
              "      flex-wrap:wrap;\n",
              "      gap: 12px;\n",
              "    }\n",
              "\n",
              "    .colab-df-convert {\n",
              "      background-color: #E8F0FE;\n",
              "      border: none;\n",
              "      border-radius: 50%;\n",
              "      cursor: pointer;\n",
              "      display: none;\n",
              "      fill: #1967D2;\n",
              "      height: 32px;\n",
              "      padding: 0 0 0 0;\n",
              "      width: 32px;\n",
              "    }\n",
              "\n",
              "    .colab-df-convert:hover {\n",
              "      background-color: #E2EBFA;\n",
              "      box-shadow: 0px 1px 2px rgba(60, 64, 67, 0.3), 0px 1px 3px 1px rgba(60, 64, 67, 0.15);\n",
              "      fill: #174EA6;\n",
              "    }\n",
              "\n",
              "    [theme=dark] .colab-df-convert {\n",
              "      background-color: #3B4455;\n",
              "      fill: #D2E3FC;\n",
              "    }\n",
              "\n",
              "    [theme=dark] .colab-df-convert:hover {\n",
              "      background-color: #434B5C;\n",
              "      box-shadow: 0px 1px 3px 1px rgba(0, 0, 0, 0.15);\n",
              "      filter: drop-shadow(0px 1px 2px rgba(0, 0, 0, 0.3));\n",
              "      fill: #FFFFFF;\n",
              "    }\n",
              "  </style>\n",
              "\n",
              "      <script>\n",
              "        const buttonEl =\n",
              "          document.querySelector('#df-46ad53ef-6e60-4756-9926-b86ef96d945b button.colab-df-convert');\n",
              "        buttonEl.style.display =\n",
              "          google.colab.kernel.accessAllowed ? 'block' : 'none';\n",
              "\n",
              "        async function convertToInteractive(key) {\n",
              "          const element = document.querySelector('#df-46ad53ef-6e60-4756-9926-b86ef96d945b');\n",
              "          const dataTable =\n",
              "            await google.colab.kernel.invokeFunction('convertToInteractive',\n",
              "                                                     [key], {});\n",
              "          if (!dataTable) return;\n",
              "\n",
              "          const docLinkHtml = 'Like what you see? Visit the ' +\n",
              "            '<a target=\"_blank\" href=https://colab.research.google.com/notebooks/data_table.ipynb>data table notebook</a>'\n",
              "            + ' to learn more about interactive tables.';\n",
              "          element.innerHTML = '';\n",
              "          dataTable['output_type'] = 'display_data';\n",
              "          await google.colab.output.renderOutput(dataTable, element);\n",
              "          const docLink = document.createElement('div');\n",
              "          docLink.innerHTML = docLinkHtml;\n",
              "          element.appendChild(docLink);\n",
              "        }\n",
              "      </script>\n",
              "    </div>\n",
              "  </div>\n",
              "  "
            ]
          },
          "metadata": {},
          "execution_count": 33
        }
      ]
    },
    {
      "cell_type": "code",
      "source": [
        "test_df.info()"
      ],
      "metadata": {
        "colab": {
          "base_uri": "https://localhost:8080/"
        },
        "id": "n7BmTBlhLdPD",
        "outputId": "58a233c8-ee6d-4813-9564-d4aab0160a81"
      },
      "execution_count": null,
      "outputs": [
        {
          "output_type": "stream",
          "name": "stdout",
          "text": [
            "<class 'pandas.core.frame.DataFrame'>\n",
            "RangeIndex: 183 entries, 0 to 182\n",
            "Data columns (total 19 columns):\n",
            " #   Column                    Non-Null Count  Dtype  \n",
            "---  ------                    --------------  -----  \n",
            " 0   Country                   183 non-null    object \n",
            " 1   Year                      183 non-null    int64  \n",
            " 2   Status                    183 non-null    object \n",
            " 3   Civilian Deaths           183 non-null    int64  \n",
            " 4   Military Accidents        183 non-null    int64  \n",
            " 5   Military Investment       183 non-null    float64\n",
            " 6   Air Force                 174 non-null    float64\n",
            " 7   Army                      183 non-null    int64  \n",
            " 8   Intelligence              181 non-null    float64\n",
            " 9   Navy                      183 non-null    int64  \n",
            " 10  Submarines                183 non-null    int64  \n",
            " 11  Literacy                  183 non-null    int64  \n",
            " 12  Revolts                   183 non-null    float64\n",
            " 13  GDP                       154 non-null    float64\n",
            " 14  Population                142 non-null    float64\n",
            " 15  Offense                   181 non-null    float64\n",
            " 16  Defense                   181 non-null    float64\n",
            " 17  Political Stability       173 non-null    float64\n",
            " 18  International Reputation  173 non-null    float64\n",
            "dtypes: float64(10), int64(7), object(2)\n",
            "memory usage: 27.3+ KB\n"
          ]
        }
      ]
    },
    {
      "cell_type": "code",
      "source": [
        "X_test = test_df.loc[:]"
      ],
      "metadata": {
        "id": "V_-FP9Z-LhDM"
      },
      "execution_count": null,
      "outputs": []
    },
    {
      "cell_type": "code",
      "source": [
        "knn = KNNImputer()\n",
        "X_test = knn.fit_transform(X)"
      ],
      "metadata": {
        "id": "YfNgN4qhL7_V"
      },
      "execution_count": null,
      "outputs": []
    },
    {
      "cell_type": "code",
      "source": [
        "test_df = pd.DataFrame(X_test)"
      ],
      "metadata": {
        "id": "BgkFbTJ8MK3V"
      },
      "execution_count": null,
      "outputs": []
    },
    {
      "cell_type": "code",
      "source": [
        "test_df.info()"
      ],
      "metadata": {
        "colab": {
          "base_uri": "https://localhost:8080/"
        },
        "id": "x0M17VR3MU0F",
        "outputId": "f3a80cc5-a0e5-4539-e124-a7b61559e68f"
      },
      "execution_count": null,
      "outputs": [
        {
          "output_type": "stream",
          "name": "stdout",
          "text": [
            "<class 'pandas.core.frame.DataFrame'>\n",
            "RangeIndex: 2745 entries, 0 to 2744\n",
            "Data columns (total 21 columns):\n",
            " #   Column  Non-Null Count  Dtype  \n",
            "---  ------  --------------  -----  \n",
            " 0   0       2745 non-null   float64\n",
            " 1   1       2745 non-null   float64\n",
            " 2   2       2745 non-null   float64\n",
            " 3   3       2745 non-null   float64\n",
            " 4   4       2745 non-null   float64\n",
            " 5   5       2745 non-null   float64\n",
            " 6   6       2745 non-null   float64\n",
            " 7   7       2745 non-null   float64\n",
            " 8   8       2745 non-null   float64\n",
            " 9   9       2745 non-null   float64\n",
            " 10  10      2745 non-null   float64\n",
            " 11  11      2745 non-null   float64\n",
            " 12  12      2745 non-null   float64\n",
            " 13  13      2745 non-null   float64\n",
            " 14  14      2745 non-null   float64\n",
            " 15  15      2745 non-null   float64\n",
            " 16  16      2745 non-null   float64\n",
            " 17  17      2745 non-null   float64\n",
            " 18  18      2745 non-null   float64\n",
            " 19  19      2745 non-null   float64\n",
            " 20  20      2745 non-null   float64\n",
            "dtypes: float64(21)\n",
            "memory usage: 450.5 KB\n"
          ]
        }
      ]
    },
    {
      "cell_type": "code",
      "source": [
        "y_pred = hr.predict(test_df)"
      ],
      "metadata": {
        "id": "UjZyQ26iMkTb"
      },
      "execution_count": null,
      "outputs": []
    },
    {
      "cell_type": "code",
      "source": [
        "len(y_pred)"
      ],
      "metadata": {
        "colab": {
          "base_uri": "https://localhost:8080/"
        },
        "id": "e-MjajkiM6z-",
        "outputId": "52ada0d5-f632-4c67-e16f-d817a8c477a3"
      },
      "execution_count": null,
      "outputs": [
        {
          "output_type": "execute_result",
          "data": {
            "text/plain": [
              "2745"
            ]
          },
          "metadata": {},
          "execution_count": 44
        }
      ]
    },
    {
      "cell_type": "code",
      "source": [
        "test_df.head()"
      ],
      "metadata": {
        "colab": {
          "base_uri": "https://localhost:8080/",
          "height": 236
        },
        "id": "pfBus_a3M_3k",
        "outputId": "04be49c1-ee2a-447f-c518-9a866bcd497b"
      },
      "execution_count": null,
      "outputs": [
        {
          "output_type": "execute_result",
          "data": {
            "text/plain": [
              "    0       1    2      3     4     5      6     7       8      9   ...    11  \\\n",
              "0  0.0  2022.0  1.0  271.0  62.0 -0.25  73.83  59.0   495.0  18.33  ...  58.0   \n",
              "1  0.0  2021.0  1.0  268.0  66.0 -0.67  73.66  71.0   431.0  18.80  ...  60.0   \n",
              "2  0.0  2020.0  1.0  271.0  70.0 -0.17  77.76  65.0  2788.0  16.39  ...  65.0   \n",
              "3  0.0  2019.0  1.0  279.0  70.0  0.69   6.95  72.0  3014.0  16.64  ...  65.0   \n",
              "4  0.0  2018.0  1.0  272.0  74.0  0.07  79.82  70.0  1988.0  17.04  ...  67.0   \n",
              "\n",
              "     12    13    14      15          16     17     18    19     20  \n",
              "0  8.06  62.0 -0.21  612.86    327582.0  17.16  17.68  0.44  10.57  \n",
              "1  8.08  65.0 -0.04  631.58  31731688.0  18.28  17.85  0.72  10.40  \n",
              "2  8.71  70.0 -0.21  669.50   3696953.0  16.85  18.46  0.99   9.52  \n",
              "3  8.34  72.0 -0.60   63.67   2978596.0  17.72  18.11  0.84   9.82  \n",
              "4  9.40  66.0 -0.12  553.89   2883166.0  18.91  18.76  0.52   9.14  \n",
              "\n",
              "[5 rows x 21 columns]"
            ],
            "text/html": [
              "\n",
              "  <div id=\"df-640f6dac-a496-44c0-95ef-86f440b2bdc7\">\n",
              "    <div class=\"colab-df-container\">\n",
              "      <div>\n",
              "<style scoped>\n",
              "    .dataframe tbody tr th:only-of-type {\n",
              "        vertical-align: middle;\n",
              "    }\n",
              "\n",
              "    .dataframe tbody tr th {\n",
              "        vertical-align: top;\n",
              "    }\n",
              "\n",
              "    .dataframe thead th {\n",
              "        text-align: right;\n",
              "    }\n",
              "</style>\n",
              "<table border=\"1\" class=\"dataframe\">\n",
              "  <thead>\n",
              "    <tr style=\"text-align: right;\">\n",
              "      <th></th>\n",
              "      <th>0</th>\n",
              "      <th>1</th>\n",
              "      <th>2</th>\n",
              "      <th>3</th>\n",
              "      <th>4</th>\n",
              "      <th>5</th>\n",
              "      <th>6</th>\n",
              "      <th>7</th>\n",
              "      <th>8</th>\n",
              "      <th>9</th>\n",
              "      <th>...</th>\n",
              "      <th>11</th>\n",
              "      <th>12</th>\n",
              "      <th>13</th>\n",
              "      <th>14</th>\n",
              "      <th>15</th>\n",
              "      <th>16</th>\n",
              "      <th>17</th>\n",
              "      <th>18</th>\n",
              "      <th>19</th>\n",
              "      <th>20</th>\n",
              "    </tr>\n",
              "  </thead>\n",
              "  <tbody>\n",
              "    <tr>\n",
              "      <th>0</th>\n",
              "      <td>0.0</td>\n",
              "      <td>2022.0</td>\n",
              "      <td>1.0</td>\n",
              "      <td>271.0</td>\n",
              "      <td>62.0</td>\n",
              "      <td>-0.25</td>\n",
              "      <td>73.83</td>\n",
              "      <td>59.0</td>\n",
              "      <td>495.0</td>\n",
              "      <td>18.33</td>\n",
              "      <td>...</td>\n",
              "      <td>58.0</td>\n",
              "      <td>8.06</td>\n",
              "      <td>62.0</td>\n",
              "      <td>-0.21</td>\n",
              "      <td>612.86</td>\n",
              "      <td>327582.0</td>\n",
              "      <td>17.16</td>\n",
              "      <td>17.68</td>\n",
              "      <td>0.44</td>\n",
              "      <td>10.57</td>\n",
              "    </tr>\n",
              "    <tr>\n",
              "      <th>1</th>\n",
              "      <td>0.0</td>\n",
              "      <td>2021.0</td>\n",
              "      <td>1.0</td>\n",
              "      <td>268.0</td>\n",
              "      <td>66.0</td>\n",
              "      <td>-0.67</td>\n",
              "      <td>73.66</td>\n",
              "      <td>71.0</td>\n",
              "      <td>431.0</td>\n",
              "      <td>18.80</td>\n",
              "      <td>...</td>\n",
              "      <td>60.0</td>\n",
              "      <td>8.08</td>\n",
              "      <td>65.0</td>\n",
              "      <td>-0.04</td>\n",
              "      <td>631.58</td>\n",
              "      <td>31731688.0</td>\n",
              "      <td>18.28</td>\n",
              "      <td>17.85</td>\n",
              "      <td>0.72</td>\n",
              "      <td>10.40</td>\n",
              "    </tr>\n",
              "    <tr>\n",
              "      <th>2</th>\n",
              "      <td>0.0</td>\n",
              "      <td>2020.0</td>\n",
              "      <td>1.0</td>\n",
              "      <td>271.0</td>\n",
              "      <td>70.0</td>\n",
              "      <td>-0.17</td>\n",
              "      <td>77.76</td>\n",
              "      <td>65.0</td>\n",
              "      <td>2788.0</td>\n",
              "      <td>16.39</td>\n",
              "      <td>...</td>\n",
              "      <td>65.0</td>\n",
              "      <td>8.71</td>\n",
              "      <td>70.0</td>\n",
              "      <td>-0.21</td>\n",
              "      <td>669.50</td>\n",
              "      <td>3696953.0</td>\n",
              "      <td>16.85</td>\n",
              "      <td>18.46</td>\n",
              "      <td>0.99</td>\n",
              "      <td>9.52</td>\n",
              "    </tr>\n",
              "    <tr>\n",
              "      <th>3</th>\n",
              "      <td>0.0</td>\n",
              "      <td>2019.0</td>\n",
              "      <td>1.0</td>\n",
              "      <td>279.0</td>\n",
              "      <td>70.0</td>\n",
              "      <td>0.69</td>\n",
              "      <td>6.95</td>\n",
              "      <td>72.0</td>\n",
              "      <td>3014.0</td>\n",
              "      <td>16.64</td>\n",
              "      <td>...</td>\n",
              "      <td>65.0</td>\n",
              "      <td>8.34</td>\n",
              "      <td>72.0</td>\n",
              "      <td>-0.60</td>\n",
              "      <td>63.67</td>\n",
              "      <td>2978596.0</td>\n",
              "      <td>17.72</td>\n",
              "      <td>18.11</td>\n",
              "      <td>0.84</td>\n",
              "      <td>9.82</td>\n",
              "    </tr>\n",
              "    <tr>\n",
              "      <th>4</th>\n",
              "      <td>0.0</td>\n",
              "      <td>2018.0</td>\n",
              "      <td>1.0</td>\n",
              "      <td>272.0</td>\n",
              "      <td>74.0</td>\n",
              "      <td>0.07</td>\n",
              "      <td>79.82</td>\n",
              "      <td>70.0</td>\n",
              "      <td>1988.0</td>\n",
              "      <td>17.04</td>\n",
              "      <td>...</td>\n",
              "      <td>67.0</td>\n",
              "      <td>9.40</td>\n",
              "      <td>66.0</td>\n",
              "      <td>-0.12</td>\n",
              "      <td>553.89</td>\n",
              "      <td>2883166.0</td>\n",
              "      <td>18.91</td>\n",
              "      <td>18.76</td>\n",
              "      <td>0.52</td>\n",
              "      <td>9.14</td>\n",
              "    </tr>\n",
              "  </tbody>\n",
              "</table>\n",
              "<p>5 rows × 21 columns</p>\n",
              "</div>\n",
              "      <button class=\"colab-df-convert\" onclick=\"convertToInteractive('df-640f6dac-a496-44c0-95ef-86f440b2bdc7')\"\n",
              "              title=\"Convert this dataframe to an interactive table.\"\n",
              "              style=\"display:none;\">\n",
              "        \n",
              "  <svg xmlns=\"http://www.w3.org/2000/svg\" height=\"24px\"viewBox=\"0 0 24 24\"\n",
              "       width=\"24px\">\n",
              "    <path d=\"M0 0h24v24H0V0z\" fill=\"none\"/>\n",
              "    <path d=\"M18.56 5.44l.94 2.06.94-2.06 2.06-.94-2.06-.94-.94-2.06-.94 2.06-2.06.94zm-11 1L8.5 8.5l.94-2.06 2.06-.94-2.06-.94L8.5 2.5l-.94 2.06-2.06.94zm10 10l.94 2.06.94-2.06 2.06-.94-2.06-.94-.94-2.06-.94 2.06-2.06.94z\"/><path d=\"M17.41 7.96l-1.37-1.37c-.4-.4-.92-.59-1.43-.59-.52 0-1.04.2-1.43.59L10.3 9.45l-7.72 7.72c-.78.78-.78 2.05 0 2.83L4 21.41c.39.39.9.59 1.41.59.51 0 1.02-.2 1.41-.59l7.78-7.78 2.81-2.81c.8-.78.8-2.07 0-2.86zM5.41 20L4 18.59l7.72-7.72 1.47 1.35L5.41 20z\"/>\n",
              "  </svg>\n",
              "      </button>\n",
              "      \n",
              "  <style>\n",
              "    .colab-df-container {\n",
              "      display:flex;\n",
              "      flex-wrap:wrap;\n",
              "      gap: 12px;\n",
              "    }\n",
              "\n",
              "    .colab-df-convert {\n",
              "      background-color: #E8F0FE;\n",
              "      border: none;\n",
              "      border-radius: 50%;\n",
              "      cursor: pointer;\n",
              "      display: none;\n",
              "      fill: #1967D2;\n",
              "      height: 32px;\n",
              "      padding: 0 0 0 0;\n",
              "      width: 32px;\n",
              "    }\n",
              "\n",
              "    .colab-df-convert:hover {\n",
              "      background-color: #E2EBFA;\n",
              "      box-shadow: 0px 1px 2px rgba(60, 64, 67, 0.3), 0px 1px 3px 1px rgba(60, 64, 67, 0.15);\n",
              "      fill: #174EA6;\n",
              "    }\n",
              "\n",
              "    [theme=dark] .colab-df-convert {\n",
              "      background-color: #3B4455;\n",
              "      fill: #D2E3FC;\n",
              "    }\n",
              "\n",
              "    [theme=dark] .colab-df-convert:hover {\n",
              "      background-color: #434B5C;\n",
              "      box-shadow: 0px 1px 3px 1px rgba(0, 0, 0, 0.15);\n",
              "      filter: drop-shadow(0px 1px 2px rgba(0, 0, 0, 0.3));\n",
              "      fill: #FFFFFF;\n",
              "    }\n",
              "  </style>\n",
              "\n",
              "      <script>\n",
              "        const buttonEl =\n",
              "          document.querySelector('#df-640f6dac-a496-44c0-95ef-86f440b2bdc7 button.colab-df-convert');\n",
              "        buttonEl.style.display =\n",
              "          google.colab.kernel.accessAllowed ? 'block' : 'none';\n",
              "\n",
              "        async function convertToInteractive(key) {\n",
              "          const element = document.querySelector('#df-640f6dac-a496-44c0-95ef-86f440b2bdc7');\n",
              "          const dataTable =\n",
              "            await google.colab.kernel.invokeFunction('convertToInteractive',\n",
              "                                                     [key], {});\n",
              "          if (!dataTable) return;\n",
              "\n",
              "          const docLinkHtml = 'Like what you see? Visit the ' +\n",
              "            '<a target=\"_blank\" href=https://colab.research.google.com/notebooks/data_table.ipynb>data table notebook</a>'\n",
              "            + ' to learn more about interactive tables.';\n",
              "          element.innerHTML = '';\n",
              "          dataTable['output_type'] = 'display_data';\n",
              "          await google.colab.output.renderOutput(dataTable, element);\n",
              "          const docLink = document.createElement('div');\n",
              "          docLink.innerHTML = docLinkHtml;\n",
              "          element.appendChild(docLink);\n",
              "        }\n",
              "      </script>\n",
              "    </div>\n",
              "  </div>\n",
              "  "
            ]
          },
          "metadata": {},
          "execution_count": 47
        }
      ]
    },
    {
      "cell_type": "code",
      "source": [
        "test_df[0]"
      ],
      "metadata": {
        "colab": {
          "base_uri": "https://localhost:8080/"
        },
        "id": "EnOpGTEbNKWg",
        "outputId": "0826f432-07b6-49f0-cb31-e6772b62fe4f"
      },
      "execution_count": null,
      "outputs": [
        {
          "output_type": "execute_result",
          "data": {
            "text/plain": [
              "0         0.0\n",
              "1         0.0\n",
              "2         0.0\n",
              "3         0.0\n",
              "4         0.0\n",
              "        ...  \n",
              "2740    182.0\n",
              "2741    182.0\n",
              "2742    182.0\n",
              "2743    182.0\n",
              "2744    182.0\n",
              "Name: 0, Length: 2745, dtype: float64"
            ]
          },
          "metadata": {},
          "execution_count": 48
        }
      ]
    },
    {
      "cell_type": "code",
      "source": [
        "data = {'Country': test_df[0], 'Power Level': y_pred}\n",
        "output = pd.DataFrame.from_dict(data)\n",
        "output.head()"
      ],
      "metadata": {
        "colab": {
          "base_uri": "https://localhost:8080/",
          "height": 206
        },
        "id": "3wJWnqJONYOS",
        "outputId": "348b300c-c002-4023-bf4e-83cd02ba4513"
      },
      "execution_count": null,
      "outputs": [
        {
          "output_type": "execute_result",
          "data": {
            "text/plain": [
              "   Country  Power Level\n",
              "0      0.0    59.806368\n",
              "1      0.0    59.820203\n",
              "2      0.0    59.280442\n",
              "3      0.0    59.179732\n",
              "4      0.0    58.965372"
            ],
            "text/html": [
              "\n",
              "  <div id=\"df-5a490373-e2ea-4e57-b6d4-bd1ab8f1d0dc\">\n",
              "    <div class=\"colab-df-container\">\n",
              "      <div>\n",
              "<style scoped>\n",
              "    .dataframe tbody tr th:only-of-type {\n",
              "        vertical-align: middle;\n",
              "    }\n",
              "\n",
              "    .dataframe tbody tr th {\n",
              "        vertical-align: top;\n",
              "    }\n",
              "\n",
              "    .dataframe thead th {\n",
              "        text-align: right;\n",
              "    }\n",
              "</style>\n",
              "<table border=\"1\" class=\"dataframe\">\n",
              "  <thead>\n",
              "    <tr style=\"text-align: right;\">\n",
              "      <th></th>\n",
              "      <th>Country</th>\n",
              "      <th>Power Level</th>\n",
              "    </tr>\n",
              "  </thead>\n",
              "  <tbody>\n",
              "    <tr>\n",
              "      <th>0</th>\n",
              "      <td>0.0</td>\n",
              "      <td>59.806368</td>\n",
              "    </tr>\n",
              "    <tr>\n",
              "      <th>1</th>\n",
              "      <td>0.0</td>\n",
              "      <td>59.820203</td>\n",
              "    </tr>\n",
              "    <tr>\n",
              "      <th>2</th>\n",
              "      <td>0.0</td>\n",
              "      <td>59.280442</td>\n",
              "    </tr>\n",
              "    <tr>\n",
              "      <th>3</th>\n",
              "      <td>0.0</td>\n",
              "      <td>59.179732</td>\n",
              "    </tr>\n",
              "    <tr>\n",
              "      <th>4</th>\n",
              "      <td>0.0</td>\n",
              "      <td>58.965372</td>\n",
              "    </tr>\n",
              "  </tbody>\n",
              "</table>\n",
              "</div>\n",
              "      <button class=\"colab-df-convert\" onclick=\"convertToInteractive('df-5a490373-e2ea-4e57-b6d4-bd1ab8f1d0dc')\"\n",
              "              title=\"Convert this dataframe to an interactive table.\"\n",
              "              style=\"display:none;\">\n",
              "        \n",
              "  <svg xmlns=\"http://www.w3.org/2000/svg\" height=\"24px\"viewBox=\"0 0 24 24\"\n",
              "       width=\"24px\">\n",
              "    <path d=\"M0 0h24v24H0V0z\" fill=\"none\"/>\n",
              "    <path d=\"M18.56 5.44l.94 2.06.94-2.06 2.06-.94-2.06-.94-.94-2.06-.94 2.06-2.06.94zm-11 1L8.5 8.5l.94-2.06 2.06-.94-2.06-.94L8.5 2.5l-.94 2.06-2.06.94zm10 10l.94 2.06.94-2.06 2.06-.94-2.06-.94-.94-2.06-.94 2.06-2.06.94z\"/><path d=\"M17.41 7.96l-1.37-1.37c-.4-.4-.92-.59-1.43-.59-.52 0-1.04.2-1.43.59L10.3 9.45l-7.72 7.72c-.78.78-.78 2.05 0 2.83L4 21.41c.39.39.9.59 1.41.59.51 0 1.02-.2 1.41-.59l7.78-7.78 2.81-2.81c.8-.78.8-2.07 0-2.86zM5.41 20L4 18.59l7.72-7.72 1.47 1.35L5.41 20z\"/>\n",
              "  </svg>\n",
              "      </button>\n",
              "      \n",
              "  <style>\n",
              "    .colab-df-container {\n",
              "      display:flex;\n",
              "      flex-wrap:wrap;\n",
              "      gap: 12px;\n",
              "    }\n",
              "\n",
              "    .colab-df-convert {\n",
              "      background-color: #E8F0FE;\n",
              "      border: none;\n",
              "      border-radius: 50%;\n",
              "      cursor: pointer;\n",
              "      display: none;\n",
              "      fill: #1967D2;\n",
              "      height: 32px;\n",
              "      padding: 0 0 0 0;\n",
              "      width: 32px;\n",
              "    }\n",
              "\n",
              "    .colab-df-convert:hover {\n",
              "      background-color: #E2EBFA;\n",
              "      box-shadow: 0px 1px 2px rgba(60, 64, 67, 0.3), 0px 1px 3px 1px rgba(60, 64, 67, 0.15);\n",
              "      fill: #174EA6;\n",
              "    }\n",
              "\n",
              "    [theme=dark] .colab-df-convert {\n",
              "      background-color: #3B4455;\n",
              "      fill: #D2E3FC;\n",
              "    }\n",
              "\n",
              "    [theme=dark] .colab-df-convert:hover {\n",
              "      background-color: #434B5C;\n",
              "      box-shadow: 0px 1px 3px 1px rgba(0, 0, 0, 0.15);\n",
              "      filter: drop-shadow(0px 1px 2px rgba(0, 0, 0, 0.3));\n",
              "      fill: #FFFFFF;\n",
              "    }\n",
              "  </style>\n",
              "\n",
              "      <script>\n",
              "        const buttonEl =\n",
              "          document.querySelector('#df-5a490373-e2ea-4e57-b6d4-bd1ab8f1d0dc button.colab-df-convert');\n",
              "        buttonEl.style.display =\n",
              "          google.colab.kernel.accessAllowed ? 'block' : 'none';\n",
              "\n",
              "        async function convertToInteractive(key) {\n",
              "          const element = document.querySelector('#df-5a490373-e2ea-4e57-b6d4-bd1ab8f1d0dc');\n",
              "          const dataTable =\n",
              "            await google.colab.kernel.invokeFunction('convertToInteractive',\n",
              "                                                     [key], {});\n",
              "          if (!dataTable) return;\n",
              "\n",
              "          const docLinkHtml = 'Like what you see? Visit the ' +\n",
              "            '<a target=\"_blank\" href=https://colab.research.google.com/notebooks/data_table.ipynb>data table notebook</a>'\n",
              "            + ' to learn more about interactive tables.';\n",
              "          element.innerHTML = '';\n",
              "          dataTable['output_type'] = 'display_data';\n",
              "          await google.colab.output.renderOutput(dataTable, element);\n",
              "          const docLink = document.createElement('div');\n",
              "          docLink.innerHTML = docLinkHtml;\n",
              "          element.appendChild(docLink);\n",
              "        }\n",
              "      </script>\n",
              "    </div>\n",
              "  </div>\n",
              "  "
            ]
          },
          "metadata": {},
          "execution_count": 50
        }
      ]
    },
    {
      "cell_type": "code",
      "source": [
        "final = output.groupby(by = 'Country').mean()"
      ],
      "metadata": {
        "id": "jJbYbuyGN5yp"
      },
      "execution_count": null,
      "outputs": []
    },
    {
      "cell_type": "code",
      "source": [
        "final.to_csv('PredictedValues.csv')"
      ],
      "metadata": {
        "id": "TySYZZ-BO1dy"
      },
      "execution_count": null,
      "outputs": []
    },
    {
      "cell_type": "code",
      "source": [],
      "metadata": {
        "id": "17X9B6h5PlC8"
      },
      "execution_count": null,
      "outputs": []
    }
  ]
}